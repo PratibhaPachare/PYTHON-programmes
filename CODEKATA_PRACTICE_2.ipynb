{
  "nbformat": 4,
  "nbformat_minor": 0,
  "metadata": {
    "colab": {
      "name": "CODEKATA_PRACTICE_2.ipynb",
      "provenance": [],
      "toc_visible": true,
      "collapsed_sections": [],
      "authorship_tag": "ABX9TyN70LIdaG3wBdlURrvGisuc",
      "include_colab_link": true
    },
    "kernelspec": {
      "name": "python3",
      "display_name": "Python 3"
    },
    "language_info": {
      "name": "python"
    }
  },
  "cells": [
    {
      "cell_type": "markdown",
      "metadata": {
        "id": "view-in-github",
        "colab_type": "text"
      },
      "source": [
        "<a href=\"https://colab.research.google.com/github/PratibhaPachare/PYTHON-programmes/blob/main/CODEKATA_PRACTICE_2.ipynb\" target=\"_parent\"><img src=\"https://colab.research.google.com/assets/colab-badge.svg\" alt=\"Open In Colab\"/></a>"
      ]
    },
    {
      "cell_type": "code",
      "execution_count": null,
      "metadata": {
        "colab": {
          "base_uri": "https://localhost:8080/"
        },
        "id": "z40WM1lp1bgC",
        "outputId": "9cb9dfcf-0c7b-4e0c-f3b5-186dfe452bbc"
      },
      "outputs": [
        {
          "output_type": "stream",
          "name": "stdout",
          "text": [
            "Enter number of rows: 5\n",
            "* \n",
            "\n",
            "* * \n",
            "\n",
            "* * * \n",
            "\n",
            "* * * * \n",
            "\n",
            "* * * * * \n",
            "\n"
          ]
        }
      ],
      "source": [
        "rows = int(input(\"Enter number of rows: \"))\n",
        "\n",
        "for i in range(rows):\n",
        "    for j in range(i+1):\n",
        "        print(\"* \", end=\"\")\n",
        "    print(\"\\n\")\n"
      ]
    },
    {
      "cell_type": "code",
      "source": [
        "R = int(input())\n",
        "num=1\n",
        "for i in range(R):\n",
        "    for j in range(i+1):\n",
        "        print(num, end=\" \")\n",
        "        num+=1\n",
        "    print(\"\\r\")"
      ],
      "metadata": {
        "colab": {
          "base_uri": "https://localhost:8080/"
        },
        "id": "NkfaNnda8jxr",
        "outputId": "853d7c25-9380-4888-c962-ca16f254e499"
      },
      "execution_count": null,
      "outputs": [
        {
          "output_type": "stream",
          "name": "stdout",
          "text": [
            "5\n",
            "1 \n",
            "2 3 \n",
            "4 5 6 \n",
            "7 8 9 10 \n",
            "11 12 13 14 15 \n"
          ]
        }
      ]
    },
    {
      "cell_type": "code",
      "source": [
        "rows = int(input())\n",
        "number = 1\n",
        "i = 1\n",
        "m=[]\n",
        "while i <= rows:\n",
        "    j = 1\n",
        "    k=[]\n",
        "    while(j <= i):        \n",
        "        k.append(number)\n",
        "        number = number + 1\n",
        "        j = j + 1\n",
        "    m.append(k)\n",
        "    k=[]\n",
        "    i = i + 1\n",
        "for i in m:\n",
        "  print(*i)"
      ],
      "metadata": {
        "colab": {
          "base_uri": "https://localhost:8080/"
        },
        "id": "1KWSBtfb8jvx",
        "outputId": "03ae239b-58d6-407c-a244-3621c9c6d97d"
      },
      "execution_count": null,
      "outputs": [
        {
          "output_type": "stream",
          "name": "stdout",
          "text": [
            "5\n",
            "1\n",
            "2 3\n",
            "4 5 6\n",
            "7 8 9 10\n",
            "11 12 13 14 15\n"
          ]
        }
      ]
    },
    {
      "cell_type": "code",
      "source": [
        "# Python program to reverse a string using stack\n",
        "\n",
        "# Function to create an empty stack.\n",
        "# It initializes size of stack as 0\n",
        "def createStack():\n",
        "\tstack=[]\n",
        "\treturn stack\n",
        "\n",
        "# Function to determine the size of the stack\n",
        "def size(stack):\n",
        "\treturn len(stack)\n",
        "\n",
        "# Stack is empty if the size is 0\n",
        "def isEmpty(stack):\n",
        "\tif size(stack) == 0:\n",
        "\t\treturn true\n",
        "\n",
        "# Function to add an item to stack .\n",
        "# It increases size by 1\n",
        "def push(stack,item):\n",
        "\tstack.append(item)\n",
        "\n",
        "#Function to remove an item from stack.\n",
        "# It decreases size by 1\n",
        "def pop(stack):\n",
        "\tif isEmpty(stack): return\n",
        "\treturn stack.pop()\n",
        "\n",
        "# A stack based function to reverse a string\n",
        "def reverse(string):\n",
        "\tn = len(string)\n",
        "\t\n",
        "\t# Create a empty stack\n",
        "\tstack = createStack()\n",
        "\n",
        "\t# Push all characters of string to stack\n",
        "\tfor i in range(0,n,1):\n",
        "\t\tpush(stack,string[i])\n",
        "\n",
        "\t# Making the string empty since all\n",
        "\t#characters are saved in stack\n",
        "\tstring=\"\"\n",
        "\n",
        "\t# Pop all characters of string and\n",
        "\t# put them back to string\n",
        "\tfor i in range(0,n,1):\n",
        "\t\tstring+=pop(stack)\n",
        "\t\t\n",
        "\treturn string\n",
        "\t\n",
        "# Driver program to test above functions\n",
        "string=\"GeeksQuiz\"\n",
        "string = reverse(string)\n",
        "print(\"Reversed string is \" + string)\n",
        "\n",
        "# This code is contributed by Sunny Karira\n"
      ],
      "metadata": {
        "id": "RN5mE9xX8jrp"
      },
      "execution_count": null,
      "outputs": []
    },
    {
      "cell_type": "code",
      "source": [
        "# Python3 implementation of\n",
        "# the above approach\n",
        "\n",
        "# function to reverse the\n",
        "# words of the given string\n",
        "# without using strtok().\n",
        "def reverse(s):\n",
        "\n",
        "# create an empty string\n",
        "# stack\n",
        "stc = []\n",
        "\n",
        "# create an empty temporary\n",
        "# string\n",
        "temp = \"\"\n",
        "\n",
        "# traversing the entire string\n",
        "for i in range(len(s)):\n",
        "\n",
        "\tif s[i] == ' ':\n",
        "\t\n",
        "\t# push the temporary variable\n",
        "\t# into the stack\n",
        "\tstc.append(temp)\n",
        "\t\n",
        "\t# assigning temporary variable\n",
        "\t# as empty\n",
        "\ttemp = \"\"\t\t\n",
        "\n",
        "\telse:\n",
        "\ttemp = temp + s[i]\n",
        "\n",
        "# for the last word of the string\n",
        "stc.append(temp)\n",
        "\n",
        "while len(stc) != 0:\n",
        "\n",
        "\t# Get the words in reverse order\n",
        "\ttemp = stc[len(stc) - 1]\n",
        "\tprint(temp, end = \" \")\n",
        "\tstc.pop()\n",
        "\n",
        "print()\n",
        "\n",
        "# Driver code\n",
        "s = \"I Love To Code\"\n",
        "reverse(s)\n",
        "\n",
        "# This code is contributed by divyeshrabadiya07\n"
      ],
      "metadata": {
        "id": "dPMTr6cY8jnb"
      },
      "execution_count": null,
      "outputs": []
    },
    {
      "cell_type": "code",
      "source": [
        "#majestic array\n",
        "N=int(input())\n",
        "l=list(map(int,input().split()))\n",
        "if(l[0]+l[1]+l[2] == l[-3]+l[-2]+l[-1]):\n",
        "\tprint(\"1\")\n",
        "else:\n",
        "\tprint(\"0\")"
      ],
      "metadata": {
        "colab": {
          "base_uri": "https://localhost:8080/"
        },
        "id": "oSVpqukc8jlg",
        "outputId": "e59f3cb9-aab0-49d6-bb31-d69eb65b68ab"
      },
      "execution_count": null,
      "outputs": [
        {
          "output_type": "stream",
          "name": "stdout",
          "text": [
            "7\n",
            "3 6 4 9 8 7 \n",
            "0\n"
          ]
        }
      ]
    },
    {
      "cell_type": "code",
      "source": [
        "def rem_vowel(string):\n",
        "    vowels = ['a','e','i','o','u']\n",
        "    result = [letter for letter in string if letter.lower() not in vowels]\n",
        "    result = ''.join(result)\n",
        "    print(result)\n",
        " \n",
        "# Driver program\n",
        "string = \"GeeksforGeeks - A Computer Science Portal for Geeks\"\n",
        "rem_vowel(string)\n",
        "string = \"Loving Python LOL\"\n",
        "rem_vowel(string)"
      ],
      "metadata": {
        "id": "JEUfwJwh8jhZ",
        "colab": {
          "base_uri": "https://localhost:8080/"
        },
        "outputId": "33b30fd0-4d91-4bcc-e258-4bb599d65a91"
      },
      "execution_count": null,
      "outputs": [
        {
          "output_type": "stream",
          "name": "stdout",
          "text": [
            "GksfrGks -  Cmptr Scnc Prtl fr Gks\n",
            "Lvng Pythn LL\n"
          ]
        }
      ]
    },
    {
      "cell_type": "code",
      "source": [
        "def isPalindrome(s):\n",
        "    return s == s[::-1]\n",
        " \n",
        " \n",
        "# Driver code\n",
        "s = \"malayalam\"\n",
        "ans = isPalindrome(s)\n",
        " \n",
        "if ans:\n",
        "    print(\"Yes\")\n",
        "else:\n",
        "    print(\"No\")\n"
      ],
      "metadata": {
        "id": "dp8Rep1S8jfg",
        "colab": {
          "base_uri": "https://localhost:8080/"
        },
        "outputId": "00b8c647-78c7-4e71-e059-8a89cdb1b619"
      },
      "execution_count": null,
      "outputs": [
        {
          "output_type": "stream",
          "name": "stdout",
          "text": [
            "Yes\n"
          ]
        }
      ]
    },
    {
      "cell_type": "code",
      "source": [
        "# Python3 program to check for\n",
        "# balanced brackets.\n",
        "\n",
        "# function to check if\n",
        "# brackets are balanced\n",
        "\n",
        "\n",
        "def areBracketsBalanced(expr):\n",
        "\tstack = []\n",
        "\n",
        "\t# Traversing the Expression\n",
        "\tfor char in expr:\n",
        "\t\tif char in [\"(\", \"{\", \"[\"]:\n",
        "\n",
        "\t\t\t# Push the element in the stack\n",
        "\t\t\tstack.append(char)\n",
        "\t\telse:\n",
        "\n",
        "\t\t\t# IF current character is not opening\n",
        "\t\t\t# bracket, then it must be closing.\n",
        "\t\t\t# So stack cannot be empty at this point.\n",
        "\t\t\tif not stack:\n",
        "\t\t\t\treturn False\n",
        "\t\t\tcurrent_char = stack.pop()\n",
        "\t\t\tif current_char == '(':\n",
        "\t\t\t\tif char != \")\":\n",
        "\t\t\t\t\treturn False\n",
        "\t\t\tif current_char == '{':\n",
        "\t\t\t\tif char != \"}\":\n",
        "\t\t\t\t\treturn False\n",
        "\t\t\tif current_char == '[':\n",
        "\t\t\t\tif char != \"]\":\n",
        "\t\t\t\t\treturn False\n",
        "\n",
        "\t# Check Empty Stack\n",
        "\tif stack:\n",
        "\t\treturn False\n",
        "\treturn True\n",
        "\n",
        "\n",
        "# Driver Code\n",
        "if __name__ == \"__main__\":\n",
        "\texpr =input()\n",
        "\n",
        "\t# Function call\n",
        "\tif areBracketsBalanced(expr):\n",
        "\t\tprint(1)\n",
        "\telse:\n",
        "\t\tprint(0)\n",
        "\n",
        "\n"
      ],
      "metadata": {
        "id": "e2WFsVuT8jdM",
        "colab": {
          "base_uri": "https://localhost:8080/"
        },
        "outputId": "38ea524c-b3c5-4a71-d13c-4181ded02f4c"
      },
      "execution_count": null,
      "outputs": [
        {
          "output_type": "stream",
          "name": "stdout",
          "text": [
            "ptat\n",
            "0\n"
          ]
        }
      ]
    },
    {
      "cell_type": "code",
      "source": [
        "a=input()\n",
        "print(a[::-1].capitalize())"
      ],
      "metadata": {
        "id": "NoYSpwnT8jU1",
        "colab": {
          "base_uri": "https://localhost:8080/"
        },
        "outputId": "306367bf-5586-48a8-cc81-f83223d16d05"
      },
      "execution_count": null,
      "outputs": [
        {
          "output_type": "stream",
          "name": "stdout",
          "text": [
            "ashwini\n",
            "Iniwhsa\n"
          ]
        }
      ]
    },
    {
      "cell_type": "code",
      "source": [
        "a=input()\n",
        "t=int(input())\n",
        "p=int(input())\n",
        "arr=[]\n",
        "for i in a:\n",
        "    arr.append(i)\n",
        "if t==1:\n",
        "    for i in range(1,int(len(a)/p)+1):\n",
        "        arr[(p*i)-1]=arr[p*i-1].lower()\n",
        "if t==2:\n",
        "    for i in range(1,int(len(a)/p)+1):\n",
        "        arr[(p*i)-1]=arr[p*i-1].upper()\n",
        "for i in arr:\n",
        "    print(i, end=\"\")\n",
        "        "
      ],
      "metadata": {
        "id": "4gJg8b0p8jGx",
        "colab": {
          "base_uri": "https://localhost:8080/"
        },
        "outputId": "882e49bd-bc85-4031-fa61-2a25b4be7b71"
      },
      "execution_count": null,
      "outputs": [
        {
          "output_type": "stream",
          "name": "stdout",
          "text": [
            "12\n",
            "15\n",
            "15\n",
            "12"
          ]
        }
      ]
    },
    {
      "cell_type": "code",
      "source": [
        "a=input()\n",
        "r=0\n",
        "for i in a:\n",
        "    if i in (\"123456789\"):\n",
        "        r=int(i)+r\n",
        "    else:\n",
        "        continue\n",
        "print(r)    \n",
        "    "
      ],
      "metadata": {
        "id": "IGTKwESw8i-8",
        "colab": {
          "base_uri": "https://localhost:8080/"
        },
        "outputId": "952971c1-ab91-4c8d-ef3a-533fd06f122a"
      },
      "execution_count": null,
      "outputs": [
        {
          "output_type": "stream",
          "name": "stdout",
          "text": [
            "14\n",
            "5\n"
          ]
        }
      ]
    },
    {
      "cell_type": "code",
      "source": [
        "a=input()\n",
        "count=0\n",
        "for i in a:\n",
        "    if i in \"AEIOUaeiou\":\n",
        "        count+=1\n",
        "if count>0:\n",
        "    print(\"yes\")\n",
        "else:\n",
        "    print(\"no\")\n",
        "    \n"
      ],
      "metadata": {
        "id": "CdqlArWbHDAy",
        "colab": {
          "base_uri": "https://localhost:8080/"
        },
        "outputId": "06c16458-1f93-47db-e98c-7c803fa2a761"
      },
      "execution_count": null,
      "outputs": [
        {
          "output_type": "stream",
          "name": "stdout",
          "text": [
            "ptatibha\n",
            "yes\n"
          ]
        }
      ]
    },
    {
      "cell_type": "code",
      "source": [
        "s=input()\n",
        "d=len(s)//2\n",
        "if len(s)%2==1:\n",
        "    print(s[0:d]+\"*\"+s[d+1:])\n",
        "else:\n",
        "    print(s[0:d-1]+\"**\"+s[d+1:])"
      ],
      "metadata": {
        "id": "8O0yD_7nHC9B",
        "colab": {
          "base_uri": "https://localhost:8080/"
        },
        "outputId": "7df78f5f-67e3-4290-f385-b0e9c211b794"
      },
      "execution_count": null,
      "outputs": [
        {
          "output_type": "stream",
          "name": "stdout",
          "text": [
            "15\n",
            "**\n"
          ]
        }
      ]
    },
    {
      "cell_type": "code",
      "source": [
        "n=int(input())\n",
        "arr=[]\n",
        "for i in range(1,n+1):\n",
        "    arr.append(i*9)\n",
        "print(*arr)    "
      ],
      "metadata": {
        "id": "gpjjvbtbHC7a",
        "colab": {
          "base_uri": "https://localhost:8080/"
        },
        "outputId": "38fd72b8-36b6-45ea-dbe4-10e6a6655a6c"
      },
      "execution_count": null,
      "outputs": [
        {
          "output_type": "stream",
          "name": "stdout",
          "text": [
            "15\n",
            "9 18 27 36 45 54 63 72 81 90 99 108 117 126 135\n"
          ]
        }
      ]
    },
    {
      "cell_type": "code",
      "source": [
        "cel=int(input())\n",
        "far=(cel)*1.8+32\n",
        "print(round(far,2))\n"
      ],
      "metadata": {
        "id": "q313AlREHC3m",
        "colab": {
          "base_uri": "https://localhost:8080/"
        },
        "outputId": "3f011157-be09-4abf-ec4d-7be5bc111c5e"
      },
      "execution_count": null,
      "outputs": [
        {
          "output_type": "stream",
          "name": "stdout",
          "text": [
            "15\n",
            "59.0\n"
          ]
        }
      ]
    },
    {
      "cell_type": "code",
      "source": [
        "n=int(input())\n",
        "print(n**2)"
      ],
      "metadata": {
        "id": "su7-Mb3rHC1q",
        "colab": {
          "base_uri": "https://localhost:8080/"
        },
        "outputId": "63d0c4bf-b0a7-46ea-ee58-3ebbdcd047db"
      },
      "execution_count": null,
      "outputs": [
        {
          "output_type": "stream",
          "name": "stdout",
          "text": [
            "6\n",
            "36\n"
          ]
        }
      ]
    },
    {
      "cell_type": "code",
      "source": [
        "a=int(input())\n",
        "b=[1,3,5,7,8,10,12]\n",
        "c=[4,6,9,11]\n",
        "d=12\n",
        "if a in b:\n",
        "    print(31)\n",
        "elif a in c:\n",
        "    print(30)\n",
        "elif a==2:\n",
        "    print(28)\n",
        "else:\n",
        "    print(\"Error\")"
      ],
      "metadata": {
        "id": "bWSHC9vAHCx-",
        "colab": {
          "base_uri": "https://localhost:8080/"
        },
        "outputId": "c83f7c05-d21f-4d14-b009-1282bc0587f4"
      },
      "execution_count": null,
      "outputs": [
        {
          "output_type": "stream",
          "name": "stdout",
          "text": [
            "12\n",
            "31\n"
          ]
        }
      ]
    },
    {
      "cell_type": "code",
      "source": [
        "a=input()\n",
        "list1=a.split()\n",
        "new=\"\".join(list1)\n",
        "print(len(new))"
      ],
      "metadata": {
        "id": "4cjJ08ojHCwX",
        "colab": {
          "base_uri": "https://localhost:8080/"
        },
        "outputId": "154118e8-43f9-437e-baec-e83897b4c812"
      },
      "execution_count": null,
      "outputs": [
        {
          "output_type": "stream",
          "name": "stdout",
          "text": [
            "45555\n",
            "5\n"
          ]
        }
      ]
    },
    {
      "cell_type": "code",
      "source": [
        "a=input()\n",
        "arr=[]\n",
        "for i in a:\n",
        "    arr.append(i)\n",
        "print(*arr)    "
      ],
      "metadata": {
        "id": "JAXnbAP3HCso",
        "colab": {
          "base_uri": "https://localhost:8080/"
        },
        "outputId": "e0788381-9fdc-4ce7-e215-12485edfb1af"
      },
      "execution_count": null,
      "outputs": [
        {
          "output_type": "stream",
          "name": "stdout",
          "text": [
            "4545\n",
            "4 5 4 5\n"
          ]
        }
      ]
    },
    {
      "cell_type": "code",
      "source": [
        "a=int(input())\n",
        "ev=[]\n",
        "od=[]\n",
        "b=list(map(int, str(a)))\n",
        "for x in b:\n",
        "  if (x%2 ==0):\n",
        "    ev.append(x)\n",
        "  else:\n",
        "    od.append(x)\n",
        "print(*sorted(ev))\n",
        "print(*sorted(od))"
      ],
      "metadata": {
        "id": "AggmpljHHCrA",
        "colab": {
          "base_uri": "https://localhost:8080/"
        },
        "outputId": "6c4cfc30-cb39-46dc-d83a-e356aef5b4fb"
      },
      "execution_count": null,
      "outputs": [
        {
          "output_type": "stream",
          "name": "stdout",
          "text": [
            "12\n",
            "2\n",
            "1\n"
          ]
        }
      ]
    }
  ]
}